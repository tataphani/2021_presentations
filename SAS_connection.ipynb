{
  "nbformat": 4,
  "nbformat_minor": 0,
  "metadata": {
    "colab": {
      "name": "SAS_connection.ipynb",
      "provenance": [],
      "collapsed_sections": [],
      "authorship_tag": "ABX9TyOJO50aTgTNhTXbMziPEJGo",
      "include_colab_link": true
    },
    "kernelspec": {
      "name": "python3",
      "display_name": "Python 3"
    },
    "language_info": {
      "name": "python"
    }
  },
  "cells": [
    {
      "cell_type": "markdown",
      "metadata": {
        "id": "view-in-github",
        "colab_type": "text"
      },
      "source": [
        "<a href=\"https://colab.research.google.com/github/tataphani/2021_presentations/blob/main/SAS_connection.ipynb\" target=\"_parent\"><img src=\"https://colab.research.google.com/assets/colab-badge.svg\" alt=\"Open In Colab\"/></a>"
      ]
    },
    {
      "cell_type": "code",
      "source": [
        "! pip install saspy"
      ],
      "metadata": {
        "colab": {
          "base_uri": "https://localhost:8080/"
        },
        "id": "r8HcKh44bf1t",
        "outputId": "e262d09b-568e-4244-f8f0-abb6c3af6c32"
      },
      "execution_count": 1,
      "outputs": [
        {
          "output_type": "stream",
          "name": "stdout",
          "text": [
            "Collecting saspy\n",
            "  Downloading saspy-4.1.0.tar.gz (9.9 MB)\n",
            "\u001b[K     |████████████████████████████████| 9.9 MB 10.8 MB/s \n",
            "\u001b[?25hBuilding wheels for collected packages: saspy\n",
            "  Building wheel for saspy (setup.py) ... \u001b[?25l\u001b[?25hdone\n",
            "  Created wheel for saspy: filename=saspy-4.1.0-py3-none-any.whl size=9928864 sha256=3a75c58dba89025afee9a6ee37272e15669e6b3a08aa0669f7f02fcb2fc0aaad\n",
            "  Stored in directory: /root/.cache/pip/wheels/66/7a/63/cb701ffefd2f30c7a8cdb6a91ffb4d60206529d4bf068329c6\n",
            "Successfully built saspy\n",
            "Installing collected packages: saspy\n",
            "Successfully installed saspy-4.1.0\n"
          ]
        }
      ]
    },
    {
      "cell_type": "code",
      "source": [
        ""
      ],
      "metadata": {
        "id": "TxxTqloOejS-"
      },
      "execution_count": 1,
      "outputs": []
    },
    {
      "cell_type": "code",
      "source": [
        "! which java"
      ],
      "metadata": {
        "colab": {
          "base_uri": "https://localhost:8080/"
        },
        "id": "jfWbUu03cG46",
        "outputId": "d1a2e87b-0761-433c-e2ee-210f11e943c5"
      },
      "execution_count": 2,
      "outputs": [
        {
          "output_type": "stream",
          "name": "stdout",
          "text": [
            "/usr/bin/java\n"
          ]
        }
      ]
    },
    {
      "cell_type": "code",
      "source": [
        "##First Import saspy using this then Enter the IOM user which is You can use either this user ID or your email address (rlanguage22@gmail.com),\n",
        "## along with your SAS Profile password, to sign in to SAS OnDemand for Academics:\n",
        "## https://welcome.oda.sas.com and password is Narayana#27\n",
        "import saspy\n",
        "sas = saspy.SASsession(iomhost=['odaws01-usw2.oda.sas.com', 'odaws02-usw2.oda.sas.com',\n",
        " 'odaws03-usw2.oda.sas.com', 'odaws04-usw2.oda.sas.com'],\n",
        " java='/usr/bin/java', iomport=8591)"
      ],
      "metadata": {
        "colab": {
          "base_uri": "https://localhost:8080/",
          "height": 585
        },
        "id": "aHZOyIg_cN-E",
        "outputId": "b95e59f3-0d78-4cd7-ae8d-9519168c2986"
      },
      "execution_count": 3,
      "outputs": [
        {
          "output_type": "stream",
          "name": "stdout",
          "text": [
            "Using SAS Config named: default\n",
            "Please enter the IOM user id: rlanguage22@gmail.com\n",
            "Please enter the password for IOM user : ··········\n",
            "We failed in getConnection\n",
            "The application could not log on to the server \"odaws04-usw2.oda.sas.com:8591\". The user ID \"rlanguage22@gmail.com\" or the password is incorrect.\n",
            "\n",
            "SAS process has terminated unexpectedly. Pid State= (161, 64000)\n",
            "SAS Connection failed. No connection established. Double check your settings in sascfg_personal.py file.\n",
            "\n",
            "Attempted to run program /usr/bin/java with the following parameters:['/usr/bin/java', '-classpath', '/usr/local/lib/python3.7/dist-packages/saspy/java/saspyiom.jar:/usr/local/lib/python3.7/dist-packages/saspy/java/iomclient/log4j-1.2-api-2.12.4.jar:/usr/local/lib/python3.7/dist-packages/saspy/java/iomclient/log4j-api-2.12.4.jar:/usr/local/lib/python3.7/dist-packages/saspy/java/iomclient/log4j-core-2.12.4.jar:/usr/local/lib/python3.7/dist-packages/saspy/java/iomclient/sas.security.sspi.jar:/usr/local/lib/python3.7/dist-packages/saspy/java/iomclient/sas.core.jar:/usr/local/lib/python3.7/dist-packages/saspy/java/iomclient/sas.svc.connection.jar:/usr/local/lib/python3.7/dist-packages/saspy/java/iomclient/sas.rutil.jar:/usr/local/lib/python3.7/dist-packages/saspy/java/iomclient/sas.rutil.nls.jar:/usr/local/lib/python3.7/dist-packages/saspy/java/iomclient/sastpj.rutil.jar:/usr/local/lib/python3.7/dist-packages/saspy/java/thirdparty/glassfish-corba-internal-api.jar:/usr/local/lib/python3.7/dist-packages/saspy/java/thirdparty/glassfish-corba-omgapi.jar:/usr/local/lib/python3.7/dist-packages/saspy/java/thirdparty/glassfish-corba-orb.jar:/usr/local/lib/python3.7/dist-packages/saspy/java/thirdparty/pfl-basic.jar:/usr/local/lib/python3.7/dist-packages/saspy/java/thirdparty/pfl-tf.jar', 'pyiom.saspy2j', '-host', 'localhost', '-stdinport', '54577', '-stdoutport', '56725', '-stderrport', '59283', '-iomhost', 'odaws01-usw2.oda.sas.com;odaws02-usw2.oda.sas.com;odaws03-usw2.oda.sas.com;odaws04-usw2.oda.sas.com', '-iomport', '8591', '-user', 'rlanguage22@gmail.com', '-lrecl', '1048576', '']\n",
            "\n",
            "No SAS process attached. SAS process has terminated unexpectedly.\n",
            "Invalid response from SAS on inital submission. printing the SASLOG as diagnostic\n",
            "\n"
          ]
        },
        {
          "output_type": "error",
          "ename": "KeyError",
          "evalue": "ignored",
          "traceback": [
            "\u001b[0;31m---------------------------------------------------------------------------\u001b[0m",
            "\u001b[0;31mKeyError\u001b[0m                                  Traceback (most recent call last)",
            "\u001b[0;32m<ipython-input-3-ea62dee6958a>\u001b[0m in \u001b[0;36m<module>\u001b[0;34m()\u001b[0m\n\u001b[1;32m      5\u001b[0m sas = saspy.SASsession(iomhost=['odaws01-usw2.oda.sas.com', 'odaws02-usw2.oda.sas.com',\n\u001b[1;32m      6\u001b[0m  'odaws03-usw2.oda.sas.com', 'odaws04-usw2.oda.sas.com'],\n\u001b[0;32m----> 7\u001b[0;31m  java='/usr/bin/java', iomport=8591)\n\u001b[0m",
            "\u001b[0;32m/usr/local/lib/python3.7/dist-packages/saspy/sasbase.py\u001b[0m in \u001b[0;36m__init__\u001b[0;34m(self, **kwargs)\u001b[0m\n\u001b[1;32m    588\u001b[0m         \u001b[0;32mif\u001b[0m \u001b[0mself\u001b[0m\u001b[0;34m.\u001b[0m\u001b[0msascfg\u001b[0m\u001b[0;34m.\u001b[0m\u001b[0mmode\u001b[0m \u001b[0;34m!=\u001b[0m \u001b[0;34m'HTTP'\u001b[0m\u001b[0;34m:\u001b[0m\u001b[0;34m\u001b[0m\u001b[0;34m\u001b[0m\u001b[0m\n\u001b[1;32m    589\u001b[0m            \u001b[0;32mtry\u001b[0m\u001b[0;34m:\u001b[0m\u001b[0;34m\u001b[0m\u001b[0;34m\u001b[0m\u001b[0m\n\u001b[0;32m--> 590\u001b[0;31m               \u001b[0mself\u001b[0m\u001b[0;34m.\u001b[0m\u001b[0mpyenc\u001b[0m \u001b[0;34m=\u001b[0m \u001b[0msas_encoding_mapping\u001b[0m\u001b[0;34m[\u001b[0m\u001b[0mself\u001b[0m\u001b[0;34m.\u001b[0m\u001b[0msascei\u001b[0m\u001b[0;34m]\u001b[0m\u001b[0;34m\u001b[0m\u001b[0;34m\u001b[0m\u001b[0m\n\u001b[0m\u001b[1;32m    591\u001b[0m            \u001b[0;32mexcept\u001b[0m \u001b[0mKeyError\u001b[0m\u001b[0;34m:\u001b[0m\u001b[0;34m\u001b[0m\u001b[0;34m\u001b[0m\u001b[0m\n\u001b[1;32m    592\u001b[0m               \u001b[0mlogger\u001b[0m\u001b[0;34m.\u001b[0m\u001b[0mfatal\u001b[0m\u001b[0;34m(\u001b[0m\u001b[0;34m\"Invalid response from SAS on inital submission. printing the SASLOG as diagnostic\"\u001b[0m\u001b[0;34m)\u001b[0m\u001b[0;34m\u001b[0m\u001b[0;34m\u001b[0m\u001b[0m\n",
            "\u001b[0;31mKeyError\u001b[0m: 'No SAS process attached. SAS process has terminated unexpectedly.'"
          ]
        }
      ]
    },
    {
      "cell_type": "code",
      "source": [
        ""
      ],
      "metadata": {
        "id": "EMKByPHPO_JA"
      },
      "execution_count": null,
      "outputs": []
    },
    {
      "cell_type": "code",
      "source": [
        "## First SAS program using sas.submitLST\n",
        "sas.submitLST('data a ; x = 1 ; run;proc print data = a ; run;' )"
      ],
      "metadata": {
        "id": "YbPvZqfwcv49"
      },
      "execution_count": null,
      "outputs": []
    },
    {
      "cell_type": "code",
      "source": [
        "sas.submitLST(\"proc print data=sashelp.cars; run;\", method='listorlog') \n"
      ],
      "metadata": {
        "id": "r1nb8TM7elJ8"
      },
      "execution_count": null,
      "outputs": []
    },
    {
      "cell_type": "code",
      "source": [
        "import pandas as pd \n",
        "pandasdf = pd.read_csv(\"deals.csv\")\n",
        "sasdf = sas.df2sd(pandsdf , 'sasdf')\n",
        "sas.submitLST('proc print data = work.sasdf (obs = 5);run;', method='listorlog') "
      ],
      "metadata": {
        "id": "tNY3SXwtpjBP"
      },
      "execution_count": null,
      "outputs": []
    },
    {
      "cell_type": "code",
      "source": [
        "from google.colab import files\n",
        "import pandas as pd\n",
        "\n",
        "files.upload()\n",
        "df = pd.read_csv('employee.csv')\n",
        "\n",
        "sasdf = sas.df2sd (df ,'sasdf')\n",
        "\n",
        "sas.submitLST(\"proc print data=work.sasdf; run;\", method='listorlog') "
      ],
      "metadata": {
        "id": "5kDMsZKqqgHH"
      },
      "execution_count": null,
      "outputs": []
    },
    {
      "cell_type": "code",
      "source": [
        "## Mounting data from Google drive\n",
        "\n",
        "# Load the Drive helper and mount\n",
        "from google.colab import drive\n",
        "\n",
        "# This will prompt for authorization.\n",
        "drive.mount('/content/drive')"
      ],
      "metadata": {
        "id": "lbgyjQ8m2Bqe"
      },
      "execution_count": null,
      "outputs": []
    },
    {
      "cell_type": "code",
      "source": [
        "# After executing the cell above, Drive\n",
        "# files will be present in \"/content/drive/My Drive\".\n",
        "!ls \"/content/drive/My Drive\"\n",
        "!ls \"/content/drive/My Drive/datasets\"\n",
        "!ls \"/content/drive/My Drive/datasets/adsl.xpt\""
      ],
      "metadata": {
        "id": "j7RnpU6h3VGn"
      },
      "execution_count": null,
      "outputs": []
    },
    {
      "cell_type": "code",
      "source": [
        "import  pandas as pd\n",
        "adsl = pd.read_sas('/content/drive/My Drive/datasets/adsl.xpt')\n",
        "#head(adsl)\n",
        "\n",
        "import rpy2.ipython.html\n",
        "rpy2.ipython.html.init_printing()\n",
        "#adsl\n",
        "\n",
        "\n"
      ],
      "metadata": {
        "id": "JEbvPX3_4kUV"
      },
      "execution_count": null,
      "outputs": []
    },
    {
      "cell_type": "code",
      "source": [
        "## reading the .xpt files using the R language\n",
        "# activate R magic\n",
        "%load_ext rpy2.ipython"
      ],
      "metadata": {
        "id": "YOsphBYs9usk"
      },
      "execution_count": null,
      "outputs": []
    },
    {
      "cell_type": "code",
      "source": [
        "%%R\n",
        "install.packages('dplyr')\n",
        "install.packages('haven')\n",
        "install.packages('ggplot2')\n",
        "library(reticulate)"
      ],
      "metadata": {
        "id": "HcKg7OSK9Wxe"
      },
      "execution_count": null,
      "outputs": []
    },
    {
      "cell_type": "code",
      "source": [
        "# A bit of imports\n",
        "import numpy as np\n",
        "import pandas as pd\n",
        "import warnings\n",
        "warnings.filterwarnings('ignore')\n",
        "\n",
        "# Load in the r magic\n",
        "%reload_ext rpy2.ipython\n",
        "%config IPCompleter.greedy=True\n",
        "%config InlineBackend.figure_format = 'retina'\n"
      ],
      "metadata": {
        "id": "n8vL-XH-Yy5_"
      },
      "execution_count": null,
      "outputs": []
    },
    {
      "cell_type": "code",
      "source": [
        "adsl = pd.read_sas('/content/drive/My Drive/datasets/adsl.xpt')\n",
        " "
      ],
      "metadata": {
        "id": "23d7aXTlatPr"
      },
      "execution_count": null,
      "outputs": []
    },
    {
      "cell_type": "code",
      "source": [
        "%%R\n",
        "\n",
        "df1 = c(5, 3, 3)\n",
        "df2 = c(1, 3, 4)"
      ],
      "metadata": {
        "id": "1Vo9_ynLa0uQ"
      },
      "execution_count": null,
      "outputs": []
    },
    {
      "cell_type": "code",
      "source": [
        "%R -o df1 -o df2"
      ],
      "metadata": {
        "id": "Wis9Y5ATbE-w"
      },
      "execution_count": null,
      "outputs": []
    },
    {
      "cell_type": "code",
      "source": [
        "%%R\n",
        "install.packages('reticulate')\n",
        "library(reticulate)\n",
        "#install.packages(\"googledrive\")\n",
        "#library(\"googledrive\")\n",
        "#drive_find()"
      ],
      "metadata": {
        "id": "RTNGRc1OB7Lw"
      },
      "execution_count": null,
      "outputs": []
    },
    {
      "cell_type": "code",
      "source": [
        ""
      ],
      "metadata": {
        "id": "yGWBm8znX4pV"
      },
      "execution_count": null,
      "outputs": []
    },
    {
      "cell_type": "code",
      "source": [
        "%%R\n",
        "if (file.exists(\"/usr/local/lib/python3.7/dist-packages/google/colab/_ipython.py\")) {\n",
        "  install.packages(\"R.utils\")\n",
        "  library(\"R.utils\")\n",
        "  library(\"httr\")\n",
        "  my_check <- function() {return(TRUE)}\n",
        "  reassignInPackage(\"is_interactive\", pkgName = \"httr\", my_check) \n",
        "  options(rlang_interactive=TRUE)\n",
        "}"
      ],
      "metadata": {
        "id": "F54bT8JKCof1"
      },
      "execution_count": null,
      "outputs": []
    },
    {
      "cell_type": "code",
      "source": [
        "# If ts not available we need to install . put other packages if you need.\n",
        "%%R\n",
        "packages <- c(\"googledrive\", \"googlesheets4\")\n",
        "if (length(setdiff(packages, rownames(installed.packages()))) > 0) {\n",
        "  install.packages(setdiff(packages, rownames(installed.packages())))  \n",
        "}"
      ],
      "metadata": {
        "id": "Cix5h1txJOTd"
      },
      "execution_count": null,
      "outputs": []
    },
    {
      "cell_type": "code",
      "source": [
        "%%R\n",
        "library(\"googledrive\")\n",
        "library(\"googlesheets4\")"
      ],
      "metadata": {
        "id": "ChjHYnLSQSg4"
      },
      "execution_count": null,
      "outputs": []
    },
    {
      "cell_type": "code",
      "source": [
        "# Find Google Sheets anf get the id of the first sheet \n",
        "%%R\n",
        "#library(\"googledrive\")\n",
        "# drive_find(type = \"xpt\" )\n"
      ],
      "metadata": {
        "id": "c8T5aAMqRsEE"
      },
      "execution_count": null,
      "outputs": []
    },
    {
      "cell_type": "code",
      "source": [
        "%%R\n",
        "adsl <- read_xpt('/content/drive/My Drive/datasets/adsl.xpt')"
      ],
      "metadata": {
        "id": "U06RF-2P9HQF"
      },
      "execution_count": null,
      "outputs": []
    },
    {
      "cell_type": "code",
      "source": [
        "##https://stackoverflow.com/questions/66430209/running-rstudio-on-google-colab\n",
        "##https://rpy2.github.io/doc/latest/html/introduction.html#r-packages\n",
        "import rpy2.robjects as robjects\n",
        "\n",
        "import rpy2\n",
        "print(rpy2.__version__)"
      ],
      "metadata": {
        "id": "qFCeBltvPBAg"
      },
      "execution_count": null,
      "outputs": []
    },
    {
      "cell_type": "code",
      "source": [
        "from rpy2.robjects.packages import importr\n",
        "# import R's \"base\" package\n",
        "base = importr('base')\n",
        "\n",
        "# import R's \"utils\" package\n",
        "utils = importr('utils')"
      ],
      "metadata": {
        "id": "iudzGBncP44U"
      },
      "execution_count": null,
      "outputs": []
    },
    {
      "cell_type": "code",
      "source": [
        "# import rpy2's package module\n",
        "import rpy2.robjects.packages as rpackages\n",
        "\n",
        "# import R's utility package\n",
        "utils = rpackages.importr('utils')\n",
        "\n",
        "# select a mirror for R packages\n",
        "utils.chooseCRANmirror(ind=1) # select the first mirror in the list\n",
        "\n",
        "# R package names\n",
        "packnames = ('ggplot2', 'hexbin' 'dplyr' 'xportr' , 'SASxport' )\n",
        "\n",
        "# R vector of strings\n",
        "from rpy2.robjects.vectors import StrVector\n",
        "\n",
        "# Selectively install what needs to be install.\n",
        "# We are fancy, just because we can.\n",
        "names_to_install = [x for x in packnames if not rpackages.isinstalled(x)]\n",
        "if len(names_to_install) > 0:\n",
        "    utils.install_packages(StrVector(names_to_install))"
      ],
      "metadata": {
        "id": "gPajYDpDQR6q"
      },
      "execution_count": null,
      "outputs": []
    },
    {
      "cell_type": "code",
      "source": [
        "##https://songjoyce.medium.com/google-colab-101-using-both-r-python-f04eca03e6b5\n",
        "\n",
        "%load_ext rpy2.ipython\n",
        "\n"
      ],
      "metadata": {
        "id": "9xBj1x5dYNGX"
      },
      "execution_count": null,
      "outputs": []
    },
    {
      "cell_type": "code",
      "source": [
        "from rpy2.robjects.packages import importr\n",
        "utils = importr('utils')\n",
        "\n",
        "dataf = utils.read_csv('https://raw.githubusercontent.com/jakevdp/PythonDataScienceHandbook/'\n",
        "                       'master/notebooks/data/california_cities.csv')"
      ],
      "metadata": {
        "id": "I_IIkqbFYrrU"
      },
      "execution_count": null,
      "outputs": []
    },
    {
      "cell_type": "code",
      "source": [
        "import rpy2.ipython.html\n",
        "rpy2.ipython.html.init_printing()\n",
        "dataf"
      ],
      "metadata": {
        "id": "PejnhnQzZoRN"
      },
      "execution_count": null,
      "outputs": []
    },
    {
      "cell_type": "code",
      "source": [
        "#Python to R\n",
        "%R -i df -i df2\n",
        "#R to Python\n",
        "%R -o df -o df2"
      ],
      "metadata": {
        "id": "3fjXUGAkY4Gm"
      },
      "execution_count": null,
      "outputs": []
    },
    {
      "cell_type": "code",
      "source": [
        "# activate R magic\n",
        "%load_ext rpy2.ipython"
      ],
      "metadata": {
        "id": "NjwbqH7ylchx"
      },
      "execution_count": null,
      "outputs": []
    },
    {
      "cell_type": "code",
      "source": [
        "%%R\n",
        "x <- 42\n",
        "print(x)"
      ],
      "metadata": {
        "id": "mT3NMhpWle9F"
      },
      "execution_count": null,
      "outputs": []
    },
    {
      "cell_type": "code",
      "source": [
        "%%R\n",
        "install.packages('dplyr')\n",
        "install.packages('haven')\n",
        "install.packages('ggplot2')\n"
      ],
      "metadata": {
        "id": "k1k9TKdplyCo"
      },
      "execution_count": null,
      "outputs": []
    },
    {
      "cell_type": "code",
      "source": [
        "%%R\n",
        "data(package = \"dplyr\")"
      ],
      "metadata": {
        "id": "fpZHzsFsv-Tu"
      },
      "execution_count": null,
      "outputs": []
    },
    {
      "cell_type": "code",
      "source": [
        "import pandas as pd\n",
        "pandasdf = pd.read_csv(\"/content/sample_data/california_housing_train.csv\")\n",
        "sasdf = sas.df2sd(pandasdf, 'sasdf')\n",
        "sas.submitLST(\"proc print data=work.sasdf (obs=5);run;\", method='listorlog')"
      ],
      "metadata": {
        "id": "WYGlmvBdwrgB"
      },
      "execution_count": null,
      "outputs": []
    },
    {
      "cell_type": "code",
      "source": [
        "\n",
        "\n",
        "\"\"\"\n",
        "Read five NHANES data files using Pandas and merge them into a 2d array.\n",
        "\n",
        "This value can be exported:\n",
        "\n",
        "Z : a Pandas data frame containing all the data\n",
        "\"\"\"\n",
        "\n",
        "## Data file names (the files are in ../Data)\n",
        "FN = [\"DEMO_F.XPT\", \"BMX_F.XPT\", \"BPX_F.XPT\", \"DR1TOT_F.XPT\", \"DR2TOT_F.XPT\"]"
      ],
      "metadata": {
        "id": "tlXas2uHzuWI"
      },
      "execution_count": null,
      "outputs": []
    },
    {
      "cell_type": "code",
      "source": [
        " \n",
        "import numpy as np\n",
        "import pandas as pd\n",
        " \n",
        " df = pandas.read_sas('filename.XPT')"
      ],
      "metadata": {
        "id": "7OlyFBzH0T_0"
      },
      "execution_count": null,
      "outputs": []
    }
  ]
}